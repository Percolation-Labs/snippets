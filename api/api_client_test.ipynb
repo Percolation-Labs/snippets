{
 "cells": [
  {
   "cell_type": "markdown",
   "metadata": {},
   "source": [
    "# API Client Test Notebook\n",
    "\n",
    "This notebook directly tests the API endpoints by making HTTP requests to the server running on port 8000.\n",
    "We'll test the following flows in sequence:\n",
    "\n",
    "1. Authentication and getting a session token\n",
    "2. Getting customer information\n",
    "3. Managing payment methods\n",
    "4. Products and subscription tiers\n",
    "5. Buying tokens and subscribing to plans\n",
    "6. Two-factor authentication"
   ]
  },
  {
   "cell_type": "code",
   "execution_count": 44,
   "metadata": {},
   "outputs": [],
   "source": [
    "import os\n",
    "import json\n",
    "import httpx\n",
    "import pandas as pd\n",
    "import pyotp\n",
    "import asyncio\n",
    "import base64\n",
    "from IPython.display import Image, HTML, display"
   ]
  },
  {
   "cell_type": "code",
   "execution_count": 45,
   "metadata": {},
   "outputs": [],
   "source": [
    "# Configure API base URL\n",
    "API_BASE_URL = \"http://localhost:8000\"\n",
    "\n",
    "# Test user credentials\n",
    "TEST_USER = {\n",
    "    \"email\": \"test@example.com\",\n",
    "    \"password\": \"Password123!\", \n",
    "    \"name\": \"Test User\"\n",
    "}\n",
    "\n",
    "# Session storage\n",
    "session = {\n",
    "    \"token\": None,\n",
    "    \"user\": None,\n",
    "    \"mfa_secret\": None\n",
    "}"
   ]
  },
  {
   "cell_type": "markdown",
   "metadata": {},
   "source": [
    "## Helper Functions"
   ]
  },
  {
   "cell_type": "code",
   "execution_count": 46,
   "metadata": {},
   "outputs": [],
   "source": [
    "async def make_api_request(method, endpoint, data=None, token=None):\n",
    "    \"\"\"Make a request to the API\"\"\"\n",
    "    url = f\"{API_BASE_URL}{endpoint}\"\n",
    "    headers = {}\n",
    "    cookies = {}\n",
    "    \n",
    "    # Add session_id as cookie for authentication\n",
    "    if token:\n",
    "        cookies[\"session_id\"] = token\n",
    "        # Also include Authorization header as fallback\n",
    "        headers[\"Authorization\"] = f\"Bearer {token}\"\n",
    "    \n",
    "    print(f\"Making {method.upper()} request to {url}\")\n",
    "    \n",
    "    async with httpx.AsyncClient() as client:\n",
    "        if method.lower() == \"get\":\n",
    "            response = await client.get(url, headers=headers, cookies=cookies)\n",
    "        elif method.lower() == \"post\":\n",
    "            response = await client.post(url, json=data, headers=headers, cookies=cookies)\n",
    "        elif method.lower() == \"put\":\n",
    "            response = await client.put(url, json=data, headers=headers, cookies=cookies)\n",
    "        elif method.lower() == \"delete\":\n",
    "            response = await client.delete(url, headers=headers, cookies=cookies)\n",
    "        else:\n",
    "            raise ValueError(f\"Unsupported method: {method}\")\n",
    "        \n",
    "        print(f\"Response status: {response.status_code}\")\n",
    "        \n",
    "        if response.status_code >= 400:\n",
    "            error_detail = response.text\n",
    "            try:\n",
    "                error_json = response.json()\n",
    "                if \"detail\" in error_json:\n",
    "                    error_detail = error_json[\"detail\"]\n",
    "            except:\n",
    "                pass\n",
    "            \n",
    "            print(f\"API error: {error_detail}\")\n",
    "            return {\"error\": error_detail, \"status_code\": response.status_code}\n",
    "        \n",
    "        try:\n",
    "            result = response.json()\n",
    "            # Check for session_id cookie\n",
    "            if \"session_id\" in response.cookies:\n",
    "                result[\"session_id\"] = response.cookies[\"session_id\"]\n",
    "            return result\n",
    "        except Exception as e:\n",
    "            print(f\"Error parsing API response as JSON: {str(e)}\")\n",
    "            return {\"error\": \"Invalid JSON response\", \"data\": response.text}"
   ]
  },
  {
   "cell_type": "code",
   "execution_count": 47,
   "metadata": {},
   "outputs": [],
   "source": [
    "def display_qr_code(qr_code_url):\n",
    "    \"\"\"Display QR code image from data URL\"\"\"\n",
    "    try:\n",
    "        # Check if it's a URL or a data URL\n",
    "        if qr_code_url.startswith('data:image/'):\n",
    "            # Extract base64 data\n",
    "            img_data = qr_code_url.split(',')[1]\n",
    "            img_bytes = base64.b64decode(img_data)\n",
    "            \n",
    "            # Display image\n",
    "            display(Image(data=img_bytes))\n",
    "        else:\n",
    "            # Display URL image\n",
    "            display(Image(url=qr_code_url))\n",
    "    except Exception as e:\n",
    "        print(f\"Error displaying QR code: {str(e)}\")\n",
    "        print(f\"QR Code URL: {qr_code_url}\")"
   ]
  },
  {
   "cell_type": "code",
   "execution_count": 48,
   "metadata": {},
   "outputs": [],
   "source": [
    "def generate_totp_code(secret):\n",
    "    \"\"\"Generate a TOTP code from a secret key\"\"\"\n",
    "    totp = pyotp.TOTP(secret)\n",
    "    return totp.now()"
   ]
  },
  {
   "cell_type": "markdown",
   "metadata": {},
   "source": [
    "## 1. Authentication\n",
    "\n",
    "First, we register a user or login with existing credentials to get a session token."
   ]
  },
  {
   "cell_type": "code",
   "execution_count": 49,
   "metadata": {},
   "outputs": [
    {
     "name": "stdout",
     "output_type": "stream",
     "text": [
      "Making POST request to http://localhost:8000/auth/register\n",
      "Response status: 200\n",
      "Registered user: test@example.com\n",
      "User test@example.com registered or already exists\n"
     ]
    },
    {
     "data": {
      "text/html": [
       "<div>\n",
       "<style scoped>\n",
       "    .dataframe tbody tr th:only-of-type {\n",
       "        vertical-align: middle;\n",
       "    }\n",
       "\n",
       "    .dataframe tbody tr th {\n",
       "        vertical-align: top;\n",
       "    }\n",
       "\n",
       "    .dataframe thead th {\n",
       "        text-align: right;\n",
       "    }\n",
       "</style>\n",
       "<table border=\"1\" class=\"dataframe\">\n",
       "  <thead>\n",
       "    <tr style=\"text-align: right;\">\n",
       "      <th></th>\n",
       "      <th>User Profile</th>\n",
       "    </tr>\n",
       "  </thead>\n",
       "  <tbody>\n",
       "    <tr>\n",
       "      <th>email</th>\n",
       "      <td>test@example.com</td>\n",
       "    </tr>\n",
       "    <tr>\n",
       "      <th>name</th>\n",
       "      <td>Test User</td>\n",
       "    </tr>\n",
       "    <tr>\n",
       "      <th>avatar</th>\n",
       "      <td>None</td>\n",
       "    </tr>\n",
       "    <tr>\n",
       "      <th>user_id</th>\n",
       "      <td>84e1b0a4-c0c2-419d-8f5d-5adb0f2aa6f2</td>\n",
       "    </tr>\n",
       "    <tr>\n",
       "      <th>session_id</th>\n",
       "      <td>d15584195acd4287a5be409e08a07c56b9709062b518a7...</td>\n",
       "    </tr>\n",
       "    <tr>\n",
       "      <th>auth_method</th>\n",
       "      <td>password</td>\n",
       "    </tr>\n",
       "    <tr>\n",
       "      <th>session_expiry</th>\n",
       "      <td>2025-04-01T23:59:52.248500</td>\n",
       "    </tr>\n",
       "    <tr>\n",
       "      <th>mfa_enabled</th>\n",
       "      <td>False</td>\n",
       "    </tr>\n",
       "  </tbody>\n",
       "</table>\n",
       "</div>"
      ],
      "text/plain": [
       "                                                     User Profile\n",
       "email                                            test@example.com\n",
       "name                                                    Test User\n",
       "avatar                                                       None\n",
       "user_id                      84e1b0a4-c0c2-419d-8f5d-5adb0f2aa6f2\n",
       "session_id      d15584195acd4287a5be409e08a07c56b9709062b518a7...\n",
       "auth_method                                              password\n",
       "session_expiry                         2025-04-01T23:59:52.248500\n",
       "mfa_enabled                                                 False"
      ]
     },
     "metadata": {},
     "output_type": "display_data"
    }
   ],
   "source": [
    "async def register_user(email, password, name=None):\n",
    "    \"\"\"Register a new user\"\"\"\n",
    "    data = {\n",
    "        \"email\": email,\n",
    "        \"password\": password,\n",
    "        \"name\": name\n",
    "    }\n",
    "    \n",
    "    response = await make_api_request(\"post\", \"/auth/register\", data)\n",
    "    \n",
    "    if \"error\" in response:\n",
    "        print(f\"Registration failed: {response['error']}\")\n",
    "        return None\n",
    "    \n",
    "    # Store session information\n",
    "    if \"session_id\" in response:\n",
    "        session[\"token\"] = response[\"session_id\"]\n",
    "    session[\"user\"] = response\n",
    "    \n",
    "    print(f\"Registered user: {response.get('email')}\")\n",
    "    return response\n",
    "\n",
    "# Run the registration\n",
    "user = await register_user(TEST_USER[\"email\"], TEST_USER[\"password\"], TEST_USER[\"name\"])\n",
    "\n",
    "if user:\n",
    "    print(f\"User {user['email']} registered or already exists\")\n",
    "    display(pd.Series(user).to_frame(\"User Profile\"))"
   ]
  },
  {
   "cell_type": "code",
   "execution_count": 50,
   "metadata": {},
   "outputs": [
    {
     "name": "stdout",
     "output_type": "stream",
     "text": [
      "Making POST request to http://localhost:8000/auth/login\n",
      "Response status: 200\n",
      "Logged in as: test@example.com\n",
      "User test@example.com logged in successfully\n"
     ]
    },
    {
     "data": {
      "text/html": [
       "<div>\n",
       "<style scoped>\n",
       "    .dataframe tbody tr th:only-of-type {\n",
       "        vertical-align: middle;\n",
       "    }\n",
       "\n",
       "    .dataframe tbody tr th {\n",
       "        vertical-align: top;\n",
       "    }\n",
       "\n",
       "    .dataframe thead th {\n",
       "        text-align: right;\n",
       "    }\n",
       "</style>\n",
       "<table border=\"1\" class=\"dataframe\">\n",
       "  <thead>\n",
       "    <tr style=\"text-align: right;\">\n",
       "      <th></th>\n",
       "      <th>User Profile</th>\n",
       "    </tr>\n",
       "  </thead>\n",
       "  <tbody>\n",
       "    <tr>\n",
       "      <th>email</th>\n",
       "      <td>test@example.com</td>\n",
       "    </tr>\n",
       "    <tr>\n",
       "      <th>name</th>\n",
       "      <td>Test User</td>\n",
       "    </tr>\n",
       "    <tr>\n",
       "      <th>avatar</th>\n",
       "      <td>None</td>\n",
       "    </tr>\n",
       "    <tr>\n",
       "      <th>user_id</th>\n",
       "      <td>84e1b0a4-c0c2-419d-8f5d-5adb0f2aa6f2</td>\n",
       "    </tr>\n",
       "    <tr>\n",
       "      <th>session_id</th>\n",
       "      <td>8fe758b6dfc5833bc220c7aad064166c1282c97514b40c...</td>\n",
       "    </tr>\n",
       "    <tr>\n",
       "      <th>auth_method</th>\n",
       "      <td>password</td>\n",
       "    </tr>\n",
       "    <tr>\n",
       "      <th>session_expiry</th>\n",
       "      <td>2025-04-01T23:59:56.000162</td>\n",
       "    </tr>\n",
       "    <tr>\n",
       "      <th>mfa_enabled</th>\n",
       "      <td>False</td>\n",
       "    </tr>\n",
       "  </tbody>\n",
       "</table>\n",
       "</div>"
      ],
      "text/plain": [
       "                                                     User Profile\n",
       "email                                            test@example.com\n",
       "name                                                    Test User\n",
       "avatar                                                       None\n",
       "user_id                      84e1b0a4-c0c2-419d-8f5d-5adb0f2aa6f2\n",
       "session_id      8fe758b6dfc5833bc220c7aad064166c1282c97514b40c...\n",
       "auth_method                                              password\n",
       "session_expiry                         2025-04-01T23:59:56.000162\n",
       "mfa_enabled                                                 False"
      ]
     },
     "metadata": {},
     "output_type": "display_data"
    }
   ],
   "source": [
    "async def login_user(email, password):\n",
    "    \"\"\"Login with email and password\"\"\"\n",
    "    data = {\n",
    "        \"email\": email,\n",
    "        \"password\": password\n",
    "    }\n",
    "    \n",
    "    response = await make_api_request(\"post\", \"/auth/login\", data)\n",
    "    \n",
    "    if \"error\" in response:\n",
    "        print(f\"Login failed: {response['error']}\")\n",
    "        return None\n",
    "    \n",
    "    # Store session information\n",
    "    if \"session_id\" in response:\n",
    "        session[\"token\"] = response[\"session_id\"]\n",
    "    session[\"user\"] = response\n",
    "    \n",
    "    print(f\"Logged in as: {response.get('email')}\")\n",
    "    return response\n",
    "\n",
    "# Run the login\n",
    "user = await login_user(TEST_USER[\"email\"], TEST_USER[\"password\"])\n",
    "\n",
    "if user:\n",
    "    print(f\"User {user['email']} logged in successfully\")\n",
    "    display(pd.Series(user).to_frame(\"User Profile\"))"
   ]
  },
  {
   "cell_type": "code",
   "execution_count": 32,
   "metadata": {},
   "outputs": [
    {
     "name": "stdout",
     "output_type": "stream",
     "text": [
      "Making GET request to http://localhost:8000/auth/me\n",
      "Response status: 200\n",
      "Profile for: test@example.com\n"
     ]
    },
    {
     "data": {
      "text/html": [
       "<div>\n",
       "<style scoped>\n",
       "    .dataframe tbody tr th:only-of-type {\n",
       "        vertical-align: middle;\n",
       "    }\n",
       "\n",
       "    .dataframe tbody tr th {\n",
       "        vertical-align: top;\n",
       "    }\n",
       "\n",
       "    .dataframe thead th {\n",
       "        text-align: right;\n",
       "    }\n",
       "</style>\n",
       "<table border=\"1\" class=\"dataframe\">\n",
       "  <thead>\n",
       "    <tr style=\"text-align: right;\">\n",
       "      <th></th>\n",
       "      <th>User Profile</th>\n",
       "    </tr>\n",
       "  </thead>\n",
       "  <tbody>\n",
       "    <tr>\n",
       "      <th>email</th>\n",
       "      <td>test@example.com</td>\n",
       "    </tr>\n",
       "    <tr>\n",
       "      <th>name</th>\n",
       "      <td>Test User</td>\n",
       "    </tr>\n",
       "    <tr>\n",
       "      <th>avatar</th>\n",
       "      <td>None</td>\n",
       "    </tr>\n",
       "    <tr>\n",
       "      <th>user_id</th>\n",
       "      <td>d7de1c74-0d8f-43f9-85de-7cb072b1917b</td>\n",
       "    </tr>\n",
       "    <tr>\n",
       "      <th>session_id</th>\n",
       "      <td>644b1c8b0840de95a163511b16d831142223dd3672c1c7...</td>\n",
       "    </tr>\n",
       "    <tr>\n",
       "      <th>auth_method</th>\n",
       "      <td>password</td>\n",
       "    </tr>\n",
       "    <tr>\n",
       "      <th>session_expiry</th>\n",
       "      <td>2025-04-01T23:44:15.069248</td>\n",
       "    </tr>\n",
       "    <tr>\n",
       "      <th>mfa_enabled</th>\n",
       "      <td>False</td>\n",
       "    </tr>\n",
       "  </tbody>\n",
       "</table>\n",
       "</div>"
      ],
      "text/plain": [
       "                                                     User Profile\n",
       "email                                            test@example.com\n",
       "name                                                    Test User\n",
       "avatar                                                       None\n",
       "user_id                      d7de1c74-0d8f-43f9-85de-7cb072b1917b\n",
       "session_id      644b1c8b0840de95a163511b16d831142223dd3672c1c7...\n",
       "auth_method                                              password\n",
       "session_expiry                         2025-04-01T23:44:15.069248\n",
       "mfa_enabled                                                 False"
      ]
     },
     "metadata": {},
     "output_type": "display_data"
    }
   ],
   "source": [
    "async def get_user_profile():\n",
    "    \"\"\"Get current user profile\"\"\"\n",
    "    if not session[\"token\"]:\n",
    "        print(\"Not logged in\")\n",
    "        return None\n",
    "    \n",
    "    response = await make_api_request(\"get\", \"/auth/me\", token=session[\"token\"])\n",
    "    \n",
    "    if \"error\" in response:\n",
    "        print(f\"Failed to get user profile: {response['error']}\")\n",
    "        return None\n",
    "    \n",
    "    # Update session user data\n",
    "    session[\"user\"] = response\n",
    "    \n",
    "    print(f\"Profile for: {response.get('email')}\")\n",
    "    return response\n",
    "\n",
    "# Get user profile\n",
    "user_profile = await get_user_profile()\n",
    "\n",
    "if user_profile:\n",
    "    display(pd.Series(user_profile).to_frame(\"User Profile\"))"
   ]
  },
  {
   "cell_type": "markdown",
   "metadata": {},
   "source": [
    "## 2. Stripe Customer Information\n",
    "\n",
    "Get or create a Stripe customer for the logged-in user."
   ]
  },
  {
   "cell_type": "code",
   "execution_count": 33,
   "metadata": {},
   "outputs": [
    {
     "name": "stdout",
     "output_type": "stream",
     "text": [
      "Making GET request to http://localhost:8000/payments/customer-by-email?email=test@example.com\n",
      "Response status: 200\n",
      "Retrieved Stripe customer ID: cus_S2xrXIfbWYk8dK\n"
     ]
    },
    {
     "data": {
      "text/html": [
       "<div>\n",
       "<style scoped>\n",
       "    .dataframe tbody tr th:only-of-type {\n",
       "        vertical-align: middle;\n",
       "    }\n",
       "\n",
       "    .dataframe tbody tr th {\n",
       "        vertical-align: top;\n",
       "    }\n",
       "\n",
       "    .dataframe thead th {\n",
       "        text-align: right;\n",
       "    }\n",
       "</style>\n",
       "<table border=\"1\" class=\"dataframe\">\n",
       "  <thead>\n",
       "    <tr style=\"text-align: right;\">\n",
       "      <th></th>\n",
       "      <th>Stripe Customer Info</th>\n",
       "    </tr>\n",
       "  </thead>\n",
       "  <tbody>\n",
       "    <tr>\n",
       "      <th>found</th>\n",
       "      <td>True</td>\n",
       "    </tr>\n",
       "    <tr>\n",
       "      <th>customer_id</th>\n",
       "      <td>cus_S2xrXIfbWYk8dK</td>\n",
       "    </tr>\n",
       "    <tr>\n",
       "      <th>email</th>\n",
       "      <td>test@example.com</td>\n",
       "    </tr>\n",
       "    <tr>\n",
       "      <th>name</th>\n",
       "      <td>Test User</td>\n",
       "    </tr>\n",
       "    <tr>\n",
       "      <th>created</th>\n",
       "      <td>1743464378</td>\n",
       "    </tr>\n",
       "  </tbody>\n",
       "</table>\n",
       "</div>"
      ],
      "text/plain": [
       "            Stripe Customer Info\n",
       "found                       True\n",
       "customer_id   cus_S2xrXIfbWYk8dK\n",
       "email           test@example.com\n",
       "name                   Test User\n",
       "created               1743464378"
      ]
     },
     "metadata": {},
     "output_type": "display_data"
    }
   ],
   "source": [
    "async def get_stripe_customer_info():\n",
    "    \"\"\"Get Stripe customer information for the current user\"\"\"\n",
    "    if not session[\"token\"]:\n",
    "        print(\"Not logged in\")\n",
    "        return None\n",
    "    \n",
    "    # First check if the user profile already has a customer ID\n",
    "    user = session.get(\"user\", {})\n",
    "    \n",
    "    if user.get(\"stripe_customer_id\"):\n",
    "        print(f\"User already has Stripe customer ID: {user['stripe_customer_id']}\")\n",
    "        return {\"customer_id\": user[\"stripe_customer_id\"]}\n",
    "    \n",
    "    # Otherwise, try to fetch by email\n",
    "    if not user.get(\"email\"):\n",
    "        print(\"No email available to lookup customer\")\n",
    "        return None\n",
    "    \n",
    "    response = await make_api_request(\n",
    "        \"get\", \n",
    "        f\"/payments/customer-by-email?email={user['email']}\", \n",
    "        token=session[\"token\"]\n",
    "    )\n",
    "    \n",
    "    if \"error\" in response:\n",
    "        print(f\"Failed to get customer info: {response['error']}\")\n",
    "        return None\n",
    "    \n",
    "    if response.get(\"found\") and response.get(\"customer_id\"):\n",
    "        print(f\"Retrieved Stripe customer ID: {response['customer_id']}\")\n",
    "        # Update the user data\n",
    "        user[\"stripe_customer_id\"] = response[\"customer_id\"]\n",
    "        session[\"user\"] = user\n",
    "        return response\n",
    "    else:\n",
    "        print(\"No Stripe customer found for this user\")\n",
    "        return None\n",
    "\n",
    "# Get Stripe customer info\n",
    "customer_info = await get_stripe_customer_info()\n",
    "\n",
    "if customer_info:\n",
    "    display(pd.Series(customer_info).to_frame(\"Stripe Customer Info\"))\n",
    "else:\n",
    "    print(\"No customer found, will create one in the next step\")"
   ]
  },
  {
   "cell_type": "code",
   "execution_count": 34,
   "metadata": {},
   "outputs": [
    {
     "name": "stdout",
     "output_type": "stream",
     "text": [
      "User already has Stripe customer ID: cus_S2xrXIfbWYk8dK\n",
      "Setup intent created successfully\n"
     ]
    },
    {
     "data": {
      "text/html": [
       "<div>\n",
       "<style scoped>\n",
       "    .dataframe tbody tr th:only-of-type {\n",
       "        vertical-align: middle;\n",
       "    }\n",
       "\n",
       "    .dataframe tbody tr th {\n",
       "        vertical-align: top;\n",
       "    }\n",
       "\n",
       "    .dataframe thead th {\n",
       "        text-align: right;\n",
       "    }\n",
       "</style>\n",
       "<table border=\"1\" class=\"dataframe\">\n",
       "  <thead>\n",
       "    <tr style=\"text-align: right;\">\n",
       "      <th></th>\n",
       "      <th>Stripe Setup Intent</th>\n",
       "    </tr>\n",
       "  </thead>\n",
       "  <tbody>\n",
       "    <tr>\n",
       "      <th>customer_id</th>\n",
       "      <td>cus_S2xrXIfbWYk8dK</td>\n",
       "    </tr>\n",
       "  </tbody>\n",
       "</table>\n",
       "</div>"
      ],
      "text/plain": [
       "            Stripe Setup Intent\n",
       "customer_id  cus_S2xrXIfbWYk8dK"
      ]
     },
     "metadata": {},
     "output_type": "display_data"
    }
   ],
   "source": [
    "async def create_stripe_customer():\n",
    "    \"\"\"Create a Stripe customer for the current user by getting a setup intent\"\"\"\n",
    "    if not session[\"token\"]:\n",
    "        print(\"Not logged in\")\n",
    "        return None\n",
    "    \n",
    "    # Check if the user already has a customer ID\n",
    "    user = session.get(\"user\", {})\n",
    "    if user.get(\"stripe_customer_id\"):\n",
    "        print(f\"User already has Stripe customer ID: {user['stripe_customer_id']}\")\n",
    "        return {\"customer_id\": user[\"stripe_customer_id\"]}\n",
    "    \n",
    "    # Create a setup intent to generate a customer\n",
    "    response = await make_api_request(\"post\", \"/payments/setup-intent\", {}, session[\"token\"])\n",
    "    \n",
    "    if \"error\" in response:\n",
    "        print(f\"Failed to create Stripe customer: {response['error']}\")\n",
    "        return None\n",
    "    \n",
    "    if response.get(\"customer_id\"):\n",
    "        print(f\"Created Stripe customer ID: {response['customer_id']}\")\n",
    "        \n",
    "        # Update user data\n",
    "        user[\"stripe_customer_id\"] = response[\"customer_id\"]\n",
    "        session[\"user\"] = user\n",
    "        \n",
    "        return response\n",
    "    else:\n",
    "        print(\"No customer ID returned\")\n",
    "        return None\n",
    "\n",
    "# Create a Stripe customer and get setup intent\n",
    "setup_intent = await create_stripe_customer()\n",
    "\n",
    "if setup_intent:\n",
    "    print(f\"Setup intent created successfully\")\n",
    "    display(pd.Series(setup_intent).to_frame(\"Stripe Setup Intent\"))"
   ]
  },
  {
   "cell_type": "markdown",
   "metadata": {},
   "source": [
    "## 3. Payment Methods"
   ]
  },
  {
   "cell_type": "code",
   "execution_count": 35,
   "metadata": {},
   "outputs": [
    {
     "name": "stdout",
     "output_type": "stream",
     "text": [
      "Making GET request to http://localhost:8000/payments/methods\n",
      "Response status: 200\n",
      "Found 0 payment methods\n"
     ]
    }
   ],
   "source": [
    "async def get_payment_methods():\n",
    "    \"\"\"Get payment methods for the current user\"\"\"\n",
    "    if not session[\"token\"]:\n",
    "        print(\"Not logged in\")\n",
    "        return None\n",
    "    \n",
    "    response = await make_api_request(\"get\", \"/payments/methods\", token=session[\"token\"])\n",
    "    \n",
    "    if \"error\" in response:\n",
    "        print(f\"Failed to get payment methods: {response['error']}\")\n",
    "        return None\n",
    "    \n",
    "    if isinstance(response, list):\n",
    "        print(f\"Found {len(response)} payment methods\")\n",
    "        return response\n",
    "    else:\n",
    "        print(\"Unexpected response format\")\n",
    "        return None\n",
    "\n",
    "# Get payment methods\n",
    "payment_methods = await get_payment_methods()\n",
    "\n",
    "if payment_methods:\n",
    "    if len(payment_methods) > 0:\n",
    "        display(pd.DataFrame(payment_methods))\n",
    "    else:\n",
    "        print(\"No payment methods found. You can add a card through the test client.\")\n",
    "        print(\"Visit http://localhost:7999, login, and go to the Payments tab to add a card.\")"
   ]
  },
  {
   "cell_type": "code",
   "execution_count": 36,
   "metadata": {},
   "outputs": [
    {
     "name": "stdout",
     "output_type": "stream",
     "text": [
      "To add a payment method, you need to use the test client UI.\n",
      "1. Login with the same credentials used in this notebook\n",
      "2. Go to the Payments tab\n",
      "3. Click 'Add Payment Method'\n",
      "4. Use a Stripe test card like 4242 4242 4242 4242\n",
      "5. Return to this notebook and run the next cell to verify the card was added\n"
     ]
    },
    {
     "data": {
      "text/html": [
       "<a href=\"http://localhost:7999\" target=\"_blank\">Open Test Client</a>"
      ],
      "text/plain": [
       "<IPython.core.display.HTML object>"
      ]
     },
     "metadata": {},
     "output_type": "display_data"
    }
   ],
   "source": [
    "#Add logic here to add payment method"
   ]
  },
  {
   "cell_type": "code",
   "execution_count": 13,
   "metadata": {},
   "outputs": [
    {
     "name": "stdout",
     "output_type": "stream",
     "text": [
      "Making GET request to http://localhost:8000/payments/methods\n",
      "Response status: 200\n",
      "Found 0 payment methods\n",
      "No payment methods found yet. Add a card through the test client.\n"
     ]
    }
   ],
   "source": [
    "# Check for payment methods after adding through test client\n",
    "payment_methods = await get_payment_methods()\n",
    "\n",
    "if payment_methods and len(payment_methods) > 0:\n",
    "    print(\"Payment methods found:\")\n",
    "    display(pd.DataFrame(payment_methods))\n",
    "else:\n",
    "    print(\"No payment methods found yet. Add a card through the test client.\")"
   ]
  },
  {
   "cell_type": "markdown",
   "metadata": {},
   "source": [
    "## 4. Products and Subscription Tiers"
   ]
  },
  {
   "cell_type": "code",
   "execution_count": 14,
   "metadata": {},
   "outputs": [
    {
     "name": "stdout",
     "output_type": "stream",
     "text": [
      "Making POST request to http://localhost:8000/payments/initialize-products\n",
      "Response status: 200\n",
      "Products initialized successfully\n",
      "Products initialized: {'success': True, 'products_added': 0, 'subscription_products': 3, 'token_product': True, 'token_product_details': {'name': 'Tokens', 'price': 0.01, 'price_id': 'price_1R8rxiGD1DBgwakwXvoGqlFQ'}, 'subscription_tiers': [{'name': 'Individual Subscription', 'price': 9.99, 'recurring': 'monthly', 'price_id': 'price_1R8rxgGD1DBgwakwXKDWz7uB'}, {'name': 'Team Subscription', 'price': 49.99, 'recurring': 'monthly', 'price_id': 'price_1R8rxhGD1DBgwakwgEqBEYt9'}, {'name': 'Enterprise Subscription', 'price': 199.99, 'recurring': 'monthly', 'price_id': 'price_1R8rxhGD1DBgwakwpu3ykdL3'}]}\n"
     ]
    }
   ],
   "source": [
    "async def initialize_products():\n",
    "    \"\"\"Initialize products in the system\"\"\"\n",
    "    if not session[\"token\"]:\n",
    "        print(\"Not logged in\")\n",
    "        return None\n",
    "    \n",
    "    response = await make_api_request(\"post\", \"/payments/initialize-products\", {}, session[\"token\"])\n",
    "    \n",
    "    if \"error\" in response:\n",
    "        print(f\"Product initialization failed: {response['error']}\")\n",
    "        return None\n",
    "    \n",
    "    print(\"Products initialized successfully\")\n",
    "    return response\n",
    "\n",
    "# Initialize products\n",
    "products_initialized = await initialize_products()\n",
    "\n",
    "if products_initialized:\n",
    "    print(f\"Products initialized: {products_initialized}\")"
   ]
  },
  {
   "cell_type": "code",
   "execution_count": 54,
   "metadata": {},
   "outputs": [
    {
     "name": "stdout",
     "output_type": "stream",
     "text": [
      "Making GET request to http://localhost:8000/payments/products\n",
      "Response status: 200\n",
      "Found 0 products\n"
     ]
    }
   ],
   "source": [
    "async def get_products():\n",
    "    \"\"\"Get all products\"\"\"\n",
    "    response = await make_api_request(\"get\", \"/payments/products\")\n",
    "    \n",
    "    if \"error\" in response:\n",
    "        print(f\"Failed to get products: {response['error']}\")\n",
    "        return None\n",
    "    \n",
    "    if isinstance(response, list):\n",
    "        print(f\"Found {len(response)} products\")\n",
    "        return response\n",
    "    else:\n",
    "        print(\"Unexpected response format\")\n",
    "        return None\n",
    "\n",
    "# Get products\n",
    "products = await get_products()\n",
    "\n",
    "if products:\n",
    "    display(pd.DataFrame(products))"
   ]
  },
  {
   "cell_type": "markdown",
   "metadata": {},
   "source": [
    "## 4. Payment Methods"
   ]
  },
  {
   "cell_type": "code",
   "execution_count": 38,
   "metadata": {},
   "outputs": [
    {
     "name": "stdout",
     "output_type": "stream",
     "text": [
      "Making POST request to http://localhost:8000/payments/subscribe\n",
      "Response status: 404\n",
      "API error: Subscription tier not found\n",
      "Subscription failed: Subscription tier not found\n"
     ]
    }
   ],
   "source": [
    "async def subscribe_to_plan(tier=\"Individual\"):\n",
    "    \"\"\"Subscribe to a plan\"\"\"\n",
    "    if not session[\"token\"]:\n",
    "        print(\"Not logged in\")\n",
    "        return None\n",
    "    \n",
    "    data = {\n",
    "        \"tier\": tier,\n",
    "        \"success_url\": f\"{API_BASE_URL}/payments/success?session_id={{CHECKOUT_SESSION_ID}}\", \n",
    "        \"cancel_url\": f\"{API_BASE_URL}/payments\"\n",
    "    }\n",
    "    \n",
    "    response = await make_api_request(\"post\", \"/payments/subscribe\", data, session[\"token\"])\n",
    "    \n",
    "    if \"error\" in response:\n",
    "        print(f\"Subscription failed: {response['error']}\")\n",
    "        return None\n",
    "    \n",
    "    print(f\"Subscription initiated. Checkout URL: {response.get('url')}\")\n",
    "    \n",
    "    # Display checkout link\n",
    "    display(HTML(f'<a href=\"{response.get(\"url\")}\" target=\"_blank\">Complete Subscription</a>'))\n",
    "    \n",
    "    return response\n",
    "\n",
    "# Subscribe to a plan (uncomment to execute)\n",
    "subscription = await subscribe_to_plan(\"Individual\")"
   ]
  },
  {
   "cell_type": "markdown",
   "metadata": {},
   "source": [
    "## 6. Two-Factor Authentication"
   ]
  },
  {
   "cell_type": "code",
   "execution_count": 21,
   "metadata": {},
   "outputs": [
    {
     "name": "stdout",
     "output_type": "stream",
     "text": [
      "Making POST request to http://localhost:8000/auth/mfa/setup\n",
      "Response status: 200\n",
      "Secret key: FO54OARNLABRZB6V6P3NGHZCQS3A7P6T\n"
     ]
    },
    {
     "data": {
      "image/png": "[encoded data removed]",
      "text/plain": [
       "<IPython.core.display.Image object>"
      ]
     },
     "metadata": {},
     "output_type": "display_data"
    },
    {
     "name": "stdout",
     "output_type": "stream",
     "text": [
      "MFA setup successfully. Scan the QR code with your authenticator app.\n",
      "Or use this secret key: FO54OARNLABRZB6V6P3NGHZCQS3A7P6T\n"
     ]
    }
   ],
   "source": [
    "async def setup_mfa():\n",
    "    \"\"\"Setup MFA for the current user\"\"\"\n",
    "    if not session[\"token\"]:\n",
    "        print(\"Not logged in\")\n",
    "        return None\n",
    "    \n",
    "    response = await make_api_request(\"post\", \"/auth/mfa/setup\", token=session[\"token\"])\n",
    "    \n",
    "    if \"error\" in response:\n",
    "        print(f\"MFA setup failed: {response['error']}\")\n",
    "        return None\n",
    "    \n",
    "    # Save the secret for later use\n",
    "    session[\"mfa_secret\"] = response.get(\"secret\")\n",
    "    \n",
    "    # Display QR code\n",
    "    qr_code_url = response.get(\"qr_code\")\n",
    "    if qr_code_url:\n",
    "        print(f\"Secret key: {response['secret']}\")\n",
    "        display_qr_code(qr_code_url)\n",
    "    \n",
    "    return response\n",
    "\n",
    "# Setup MFA\n",
    "mfa_setup = await setup_mfa()\n",
    "\n",
    "if mfa_setup and \"secret\" in mfa_setup:\n",
    "    print(f\"MFA setup successfully. Scan the QR code with your authenticator app.\")\n",
    "    print(f\"Or use this secret key: {mfa_setup['secret']}\")"
   ]
  },
  {
   "cell_type": "code",
   "execution_count": 22,
   "metadata": {},
   "outputs": [
    {
     "name": "stdout",
     "output_type": "stream",
     "text": [
      "Generated code: 256612\n",
      "Making POST request to http://localhost:8000/auth/mfa/verify\n",
      "Response status: 200\n",
      "MFA enabled successfully\n",
      "MFA verification successful\n"
     ]
    }
   ],
   "source": [
    "async def verify_mfa(code=None):\n",
    "    \"\"\"Verify MFA code and enable MFA\"\"\"\n",
    "    if not session[\"token\"] or not session[\"mfa_secret\"]:\n",
    "        print(\"Not logged in or MFA not set up\")\n",
    "        return None\n",
    "    \n",
    "    # If no code provided, generate one from the stored secret\n",
    "    if not code:\n",
    "        code = generate_totp_code(session[\"mfa_secret\"])\n",
    "        print(f\"Generated code: {code}\")\n",
    "    \n",
    "    data = {\n",
    "        \"code\": code,\n",
    "        \"secret\": session[\"mfa_secret\"]\n",
    "    }\n",
    "    \n",
    "    response = await make_api_request(\"post\", \"/auth/mfa/verify\", data, session[\"token\"])\n",
    "    \n",
    "    if \"error\" in response:\n",
    "        print(f\"MFA verification failed: {response['error']}\")\n",
    "        return None\n",
    "    \n",
    "    print(\"MFA enabled successfully\")\n",
    "    return response\n",
    "\n",
    "# Verify MFA with auto-generated code\n",
    "mfa_verified = await verify_mfa()\n",
    "\n",
    "if mfa_verified:\n",
    "    print(\"MFA verification successful\")"
   ]
  },
  {
   "cell_type": "markdown",
   "metadata": {},
   "source": [
    "## 7. Check User Profile After Changes"
   ]
  },
  {
   "cell_type": "code",
   "execution_count": 53,
   "metadata": {},
   "outputs": [
    {
     "name": "stdout",
     "output_type": "stream",
     "text": [
      "Initiating purchase of 100 tokens...\n",
      "This will create a one-time Stripe checkout session\n",
      "Making POST request to http://localhost:8000/payments/buy-tokens\n",
      "Response status: 200\n",
      "\n",
      "Token purchase initiated successfully!\n",
      "Checkout URL: https://checkout.stripe.com/c/pay/cs_test_a1eyru0B6jZxK4oiWID54ToKkcFSEPOI0T3sXSFTfyVZWtpQSYAB5iukEm#fidkdWxOYHwnPyd1blpxYHZxWjA0VE9oQ2hCQTRBR2JyZG5yf3xoSmtMY0lrNnFjVnBnPFdkNXN1fTUyN1V2R0d8XHBATT0wdjJxRHIzf2M1QWZgUnxhUlJJcTd0MzRCVmJpU2hwa0hcT2JPNTVEdFJ1ZlUxdCcpJ2N3amhWYHdzYHcnP3F3cGApJ2lkfGpwcVF8dWAnPyd2bGtiaWBabHFgaCcpJ2BrZGdpYFVpZGZgbWppYWB3dic%2FcXdwYHgl\n",
      "\n",
      "Instructions:\n",
      "1. Click the link below to complete purchase\n",
      "2. Use Stripe test card: 4242 4242 4242 4242\n",
      "3. Use any future date for expiry, any 3 digits for CVC, and any name\n",
      "4. After completion, return to this notebook and run the profile check cell\n"
     ]
    },
    {
     "data": {
      "text/html": [
       "<a href=\"https://checkout.stripe.com/c/pay/cs_test_a1eyru0B6jZxK4oiWID54ToKkcFSEPOI0T3sXSFTfyVZWtpQSYAB5iukEm#fidkdWxOYHwnPyd1blpxYHZxWjA0VE9oQ2hCQTRBR2JyZG5yf3xoSmtMY0lrNnFjVnBnPFdkNXN1fTUyN1V2R0d8XHBATT0wdjJxRHIzf2M1QWZgUnxhUlJJcTd0MzRCVmJpU2hwa0hcT2JPNTVEdFJ1ZlUxdCcpJ2N3amhWYHdzYHcnP3F3cGApJ2lkfGpwcVF8dWAnPyd2bGtiaWBabHFgaCcpJ2BrZGdpYFVpZGZgbWppYWB3dic%2FcXdwYHgl\" target=\"_blank\">Complete Token Purchase</a>"
      ],
      "text/plain": [
       "<IPython.core.display.HTML object>"
      ]
     },
     "metadata": {},
     "output_type": "display_data"
    }
   ],
   "source": [
    "async def buy_tokens(amount=100):\n",
    "    \"\"\"Buy tokens\n",
    "    \n",
    "    This function initiates a token purchase through the API. It sends:\n",
    "    1. The token amount to purchase\n",
    "    2. Success and cancel URLs for the checkout process\n",
    "    3. The session token for authentication\n",
    "    \n",
    "    The API will:\n",
    "    1. Find the token product with its price\n",
    "    2. Ensure minimum purchase requirement is met\n",
    "    3. Create a checkout session with the correct quantity\n",
    "    4. Return a checkout URL\n",
    "    \n",
    "    Once the checkout is completed via Stripe, the API updates the user's credits\n",
    "    through a webhook or success URL verification.\n",
    "    \"\"\"\n",
    "    if not session[\"token\"]:\n",
    "        print(\"Not logged in\")\n",
    "        return None\n",
    "    \n",
    "    data = {\n",
    "        \"amount\": amount,\n",
    "        \"success_url\": f\"{API_BASE_URL}/payments/success?session_id={{CHECKOUT_SESSION_ID}}\", \n",
    "        \"cancel_url\": f\"{API_BASE_URL}/payments\"\n",
    "    }\n",
    "    \n",
    "    # First display info about what we're doing\n",
    "    print(f\"Initiating purchase of {amount} tokens...\")\n",
    "    print(f\"This will create a one-time Stripe checkout session\")\n",
    "    \n",
    "    response = await make_api_request(\"post\", \"/payments/buy-tokens\", data, session[\"token\"])\n",
    "    \n",
    "    if \"error\" in response:\n",
    "        print(f\"Token purchase failed: {response['error']}\")\n",
    "        return None\n",
    "    \n",
    "    print(f\"\\nToken purchase initiated successfully!\")\n",
    "    print(f\"Checkout URL: {response.get('url')}\")\n",
    "    print(f\"\\nInstructions:\")\n",
    "    print(f\"1. Click the link below to complete purchase\")\n",
    "    print(f\"2. Use Stripe test card: 4242 4242 4242 4242\")\n",
    "    print(f\"3. Use any future date for expiry, any 3 digits for CVC, and any name\")\n",
    "    print(f\"4. After completion, return to this notebook and run the profile check cell\")\n",
    "    \n",
    "    # Display checkout link\n",
    "    display(HTML(f'<a href=\"{response.get(\"url\")}\" target=\"_blank\">Complete Token Purchase</a>'))\n",
    "    \n",
    "    return response\n",
    "\n",
    "# Buy tokens (uncomment to execute)\n",
    "token_purchase = await buy_tokens(100)"
   ]
  },
  {
   "cell_type": "code",
   "execution_count": 52,
   "metadata": {},
   "outputs": [
    {
     "name": "stdout",
     "output_type": "stream",
     "text": [
      "Making GET request to http://localhost:8000/payments/subscription-tiers\n",
      "Response status: 200\n",
      "Found 4 subscription tiers\n",
      "Available subscription tiers:\n",
      "   Free: $0.0/month - 5 credits\n",
      "➡️ Individual: $9.99/month - 100 credits\n",
      "   Team: $49.99/month - 500 credits\n",
      "   Enterprise: $199.99/month - 2000 credits\n",
      "\n",
      "Initiating subscription to Individual tier...\n",
      "This will set up a recurring monthly subscription\n",
      "Making POST request to http://localhost:8000/payments/subscribe\n",
      "Response status: 200\n",
      "\n",
      "Subscription initiated successfully!\n",
      "Checkout URL: https://checkout.stripe.com/c/pay/cs_test_a1shgx9WwnLcXT4xdMyzM64OzvVNQpZ8jZp9DKiHIWqD8tQ2m3BQWWtYv4#fidkdWxOYHwnPyd1blpxYHZxWjA0VE9oQ2hCQTRBR2JyZG5yf3xoSmtMY0lrNnFjVnBnPFdkNXN1fTUyN1V2R0d8XHBATT0wdjJxRHIzf2M1QWZgUnxhUlJJcTd0MzRCVmJpU2hwa0hcT2JPNTVEdFJ1ZlUxdCcpJ2N3amhWYHdzYHcnP3F3cGApJ2lkfGpwcVF8dWAnPyd2bGtiaWBabHFgaCcpJ2BrZGdpYFVpZGZgbWppYWB3dic%2FcXdwYHgl\n",
      "\n",
      "Instructions:\n",
      "1. Click the link below to complete subscription\n",
      "2. Use Stripe test card: 4242 4242 4242 4242\n",
      "3. Use any future date for expiry, any 3 digits for CVC, and any name\n",
      "4. After completion, return to this notebook and run the profile check cell\n",
      "5. Your subscription will recur monthly until canceled\n"
     ]
    },
    {
     "data": {
      "text/html": [
       "<a href=\"https://checkout.stripe.com/c/pay/cs_test_a1shgx9WwnLcXT4xdMyzM64OzvVNQpZ8jZp9DKiHIWqD8tQ2m3BQWWtYv4#fidkdWxOYHwnPyd1blpxYHZxWjA0VE9oQ2hCQTRBR2JyZG5yf3xoSmtMY0lrNnFjVnBnPFdkNXN1fTUyN1V2R0d8XHBATT0wdjJxRHIzf2M1QWZgUnxhUlJJcTd0MzRCVmJpU2hwa0hcT2JPNTVEdFJ1ZlUxdCcpJ2N3amhWYHdzYHcnP3F3cGApJ2lkfGpwcVF8dWAnPyd2bGtiaWBabHFgaCcpJ2BrZGdpYFVpZGZgbWppYWB3dic%2FcXdwYHgl\" target=\"_blank\">Complete Subscription</a>"
      ],
      "text/plain": [
       "<IPython.core.display.HTML object>"
      ]
     },
     "metadata": {},
     "output_type": "display_data"
    }
   ],
   "source": [
    "async def subscribe_to_plan(tier=\"Individual\"):\n",
    "    \"\"\"Subscribe to a plan\n",
    "    \n",
    "    This function initiates a subscription to a pricing tier through the API. It sends:\n",
    "    1. The tier name to subscribe to (e.g., \"Individual\", \"Team\", \"Enterprise\")\n",
    "    2. Success and cancel URLs for the checkout process\n",
    "    3. The session token for authentication\n",
    "    \n",
    "    The API will:\n",
    "    1. Find the subscription tier with recurring billing details\n",
    "    2. Create a Stripe subscription checkout session\n",
    "    3. Return a checkout URL\n",
    "    \n",
    "    The subscription will bill monthly until canceled, based on the recurring\n",
    "    billing settings configured in the subscription products.\n",
    "    \"\"\"\n",
    "    if not session[\"token\"]:\n",
    "        print(\"Not logged in\")\n",
    "        return None\n",
    "    \n",
    "    data = {\n",
    "        \"tier\": tier,\n",
    "        \"success_url\": f\"{API_BASE_URL}/payments/success?session_id={{CHECKOUT_SESSION_ID}}\", \n",
    "        \"cancel_url\": f\"{API_BASE_URL}/payments\"\n",
    "    }\n",
    "    \n",
    "    # First get subscription tiers to show what's available\n",
    "    tiers = await get_subscription_tiers()\n",
    "    if tiers:\n",
    "        print(\"Available subscription tiers:\")\n",
    "        for t in tiers:\n",
    "            if t[\"name\"] == tier:\n",
    "                highlight = \"➡️ \"\n",
    "            else:\n",
    "                highlight = \"   \"\n",
    "                \n",
    "            print(f\"{highlight}{t['name']}: ${t['price']}/month - {t['credits']} credits\")\n",
    "        \n",
    "        print(f\"\\nInitiating subscription to {tier} tier...\")\n",
    "        print(f\"This will set up a recurring monthly subscription\")\n",
    "    \n",
    "    response = await make_api_request(\"post\", \"/payments/subscribe\", data, session[\"token\"])\n",
    "    \n",
    "    if \"error\" in response:\n",
    "        print(f\"Subscription failed: {response['error']}\")\n",
    "        return None\n",
    "    \n",
    "    print(f\"\\nSubscription initiated successfully!\")\n",
    "    print(f\"Checkout URL: {response.get('url')}\")\n",
    "    print(f\"\\nInstructions:\")\n",
    "    print(f\"1. Click the link below to complete subscription\")\n",
    "    print(f\"2. Use Stripe test card: 4242 4242 4242 4242\")\n",
    "    print(f\"3. Use any future date for expiry, any 3 digits for CVC, and any name\")\n",
    "    print(f\"4. After completion, return to this notebook and run the profile check cell\")\n",
    "    print(f\"5. Your subscription will recur monthly until canceled\")\n",
    "    \n",
    "    # Display checkout link\n",
    "    display(HTML(f'<a href=\"{response.get(\"url\")}\" target=\"_blank\">Complete Subscription</a>'))\n",
    "    \n",
    "    return response\n",
    "\n",
    "# Subscribe to a plan (uncomment to execute)\n",
    "subscription = await subscribe_to_plan(\"Individual\")"
   ]
  },
  {
   "cell_type": "markdown",
   "metadata": {},
   "source": [
    "## Adding a Payment Method"
   ]
  }
 ],
 "metadata": {
  "kernelspec": {
   "display_name": "Python 3 (ipykernel)",
   "language": "python",
   "name": "python3"
  },
  "language_info": {
   "codemirror_mode": {
    "name": "ipython",
    "version": 3
   },
   "file_extension": ".py",
   "mimetype": "text/x-python",
   "name": "python",
   "nbconvert_exporter": "python",
   "pygments_lexer": "ipython3",
   "version": "3.10.10"
  }
 },
 "nbformat": 4,
 "nbformat_minor": 4
}
